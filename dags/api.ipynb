{
 "cells": [
  {
   "cell_type": "code",
   "execution_count": 144,
   "metadata": {},
   "outputs": [],
   "source": [
    "import requests\n",
    "\n",
    "API_KEY = 'dce8f039-d69a-4912-ac86-9ddba0f874a7'  # Substitua pela sua chave de API real\n",
    "BASE_URL = 'https://api.moskitcrm.com/v2/products'"
   ]
  },
  {
   "cell_type": "code",
   "execution_count": 145,
   "metadata": {},
   "outputs": [],
   "source": [
    "def get_all_activities(credencials_keys, api_url ,order=None, quantity=10, sort=None, start = 0, max_pages=11):\n",
    "    all_data = []\n",
    "    next_page_token = None\n",
    "    pages_retrieved = 0\n",
    "\n",
    "    for _ in range(max_pages):\n",
    "        result = get_activities(credencials_keys, api_url, order=order, quantity=quantity, sort=sort, start=start, nextPageToken=next_page_token)\n",
    "        \n",
    "        if 'error' in result:\n",
    "            print(\"Erro:\", result['error'])\n",
    "            break\n",
    "        \n",
    "        all_data.extend(result['data'])\n",
    "        next_page_token = result.get('nextPageToken')\n",
    "\n",
    "        # Se não houver mais tokens para a próxima página, saímos do loop\n",
    "        if not next_page_token:\n",
    "            break\n",
    "        \n",
    "        # Atualiza o valor de start para refletir o início da próxima página\n",
    "        start += quantity\n",
    "        pages_retrieved += 1\n",
    "\n",
    "    if pages_retrieved >= max_pages:\n",
    "        print(\"Atingido o número máximo de páginas. Pode haver mais dados disponíveis.\")\n",
    "\n",
    "    return all_data"
   ]
  },
  {
   "cell_type": "code",
   "execution_count": 146,
   "metadata": {},
   "outputs": [],
   "source": [
    "def get_activities(credencials_keys, api_url, order=None, quantity=10, sort=None, start=0, nextPageToken=None):\n",
    "    headers = {\n",
    "        'apikey': credencials_keys\n",
    "    }\n",
    "\n",
    "    params = {\n",
    "        'order': order,\n",
    "        'quantity': quantity,\n",
    "        'sort': sort,\n",
    "        'start': start\n",
    "    }\n",
    "\n",
    "    if nextPageToken:\n",
    "        params['nextPageToken'] = nextPageToken\n",
    "\n",
    "    try:\n",
    "        response = requests.get(api_url, headers=headers, params=params)\n",
    "        response.raise_for_status()\n",
    "\n",
    "        # Pega o token da próxima página dos headers da resposta\n",
    "        next_page_token = response.headers.get('X-Moskit-Listing-Next-Page-Token', None)\n",
    "        \n",
    "        return {\n",
    "            'data': response.json(),\n",
    "            'nextPageToken': next_page_token\n",
    "        }\n",
    "    except requests.exceptions.RequestException as e:\n",
    "        return {'error': str(e)}"
   ]
  },
  {
   "cell_type": "code",
   "execution_count": 147,
   "metadata": {},
   "outputs": [],
   "source": [
    "def get_total_records():\n",
    "    headers = {\n",
    "        'apikey': API_KEY\n",
    "    }\n",
    "\n",
    "    try:\n",
    "        # Faz uma requisição ao endpoint\n",
    "        response = requests.get(BASE_URL, headers=headers)\n",
    "        response.raise_for_status()\n",
    "\n",
    "        # Pega o total de registros dos headers da resposta\n",
    "        total_records = response.headers.get('X-Moskit-Listing-Total', 'Não disponível')\n",
    "        \n",
    "        return total_records\n",
    "    except requests.exceptions.RequestException as e:\n",
    "        return {'error': str(e)}"
   ]
  },
  {
   "cell_type": "code",
   "execution_count": 148,
   "metadata": {},
   "outputs": [
    {
     "name": "stdout",
     "output_type": "stream",
     "text": [
      "Número de registros obtidos: 4747\n",
      "Número de IDs únicos: 4747\n"
     ]
    }
   ],
   "source": [
    "if __name__ == '__main__':\n",
    "    # Obter o total de registros\n",
    "    total_records = get_total_records()\n",
    "    \n",
    "    # Garantir que total_records é um número válido\n",
    "    try:\n",
    "        total_records = int(total_records)\n",
    "    except ValueError:\n",
    "        print(f\"Erro ao converter total_records para int: {total_records}\")\n",
    "        total_records = 0\n",
    "\n",
    "    all_activities = []\n",
    "    start = 0\n",
    "    quantity = 50\n",
    "    max_pages_per_loop = int(total_records/quantity) + 2\n",
    "    \n",
    "    while len(all_activities) < total_records:\n",
    "        # Obter atividades em um loop\n",
    "        activities = get_all_activities(API_KEY, BASE_URL ,order='asc', quantity=quantity, sort='id', start=start, max_pages=max_pages_per_loop)\n",
    "        if not activities:\n",
    "            break\n",
    "\n",
    "        all_activities.extend(activities)\n",
    "        # start = len(all_activities)\n",
    "\n",
    "        if len(all_activities) >= total_records:\n",
    "            break\n",
    "\n",
    "    # Extrair a lista de IDs\n",
    "    list_id = [activity['id'] for activity in all_activities]\n",
    "    \n",
    "    # Contar o número de IDs únicos\n",
    "    unique_count = len(set(list_id))\n",
    "    \n",
    "    print(f\"Número de registros obtidos: {len(all_activities)}\")\n",
    "    print(f\"Número de IDs únicos: {unique_count}\")"
   ]
  },
  {
   "cell_type": "code",
   "execution_count": 149,
   "metadata": {},
   "outputs": [
    {
     "data": {
      "text/plain": [
       "4747"
      ]
     },
     "execution_count": 149,
     "metadata": {},
     "output_type": "execute_result"
    }
   ],
   "source": [
    "total_records"
   ]
  }
 ],
 "metadata": {
  "kernelspec": {
   "display_name": "base",
   "language": "python",
   "name": "python3"
  },
  "language_info": {
   "codemirror_mode": {
    "name": "ipython",
    "version": 3
   },
   "file_extension": ".py",
   "mimetype": "text/x-python",
   "name": "python",
   "nbconvert_exporter": "python",
   "pygments_lexer": "ipython3",
   "version": "3.11.7"
  }
 },
 "nbformat": 4,
 "nbformat_minor": 2
}
